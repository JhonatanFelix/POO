{
 "cells": [
  {
   "cell_type": "code",
   "execution_count": 28,
   "metadata": {},
   "outputs": [
    {
     "name": "stdout",
     "output_type": "stream",
     "text": [
      "[1, 1, 1]\n"
     ]
    }
   ],
   "source": [
    "list1 = []\n",
    "list1.append(1)\n",
    "list1.append(1)\n",
    "list1.append(1)\n",
    "print(list1)"
   ]
  },
  {
   "cell_type": "code",
   "execution_count": null,
   "metadata": {},
   "outputs": [],
   "source": [
    "import pandas as pd\n",
    "\n",
    "\n",
    "df = pd.read_csv(\"probabilites.csv\")\n",
    "\n",
    "# Create the dictionary as described\n",
    "probabilites = {}\n",
    "\n",
    "for index, row in df.iterrows():\n",
    "    # Separation des strings\n",
    "    predateur, proie = row['Distance proie - prédateur (m)'].split('->')\n",
    "    \n",
    "    for col in df.columns[1:]:\n",
    "        clé = (str(col) if col.isdigit() else col, predateur, proie) \n",
    "        # Determination de valuer pour chaque clé\n",
    "        probabilites[clé] = row[col]\n",
    "\n",
    "probabilites"
   ]
  },
  {
   "cell_type": "code",
   "execution_count": 7,
   "metadata": {},
   "outputs": [
    {
     "data": {
      "text/plain": [
       "2.718281828459045"
      ]
     },
     "execution_count": 7,
     "metadata": {},
     "output_type": "execute_result"
    }
   ],
   "source": [
    "import math\n",
    "\n",
    "math.exp((3-1)/2)    "
   ]
  },
  {
   "cell_type": "code",
   "execution_count": 9,
   "metadata": {},
   "outputs": [
    {
     "name": "stdout",
     "output_type": "stream",
     "text": [
      "[ True  True  True  True False]\n"
     ]
    }
   ],
   "source": [
    "import numpy as np \n",
    "\n",
    "print(np.array([1,0,0,0,2]) <2 )\n"
   ]
  },
  {
   "cell_type": "code",
   "execution_count": 80,
   "metadata": {},
   "outputs": [
    {
     "name": "stdout",
     "output_type": "stream",
     "text": [
      "['p1' 'p4']\n"
     ]
    }
   ],
   "source": [
    "import numpy as np\n",
    "import random\n",
    "list_predators = ['p1', 'p2', 'p3', 'p4', 'p5', 'p6' , 'p7', 'p8']\n",
    "array_predators = np.array(list_predators)\n",
    "distances = [1,2,3,4,5,6,7,8]\n",
    "filtered_list = np.array(distances) < 5\n",
    "\n",
    "for i, valeur in enumerate(filtered_list):\n",
    "     if valeur == 1:\n",
    "        probabilite = 0.5\n",
    "        if random.random() < probabilite:\n",
    "            filtered_list[i] = 0\n",
    "\n",
    "print(array_predators[filtered_list])"
   ]
  },
  {
   "cell_type": "code",
   "execution_count": 58,
   "metadata": {},
   "outputs": [
    {
     "name": "stdout",
     "output_type": "stream",
     "text": [
      "0\n"
     ]
    }
   ],
   "source": [
    "print(len(filtered_list[filtered_list]))"
   ]
  },
  {
   "cell_type": "code",
   "execution_count": 74,
   "metadata": {},
   "outputs": [
    {
     "data": {
      "text/plain": [
       "array([[3, 4]])"
      ]
     },
     "execution_count": 74,
     "metadata": {},
     "output_type": "execute_result"
    }
   ],
   "source": [
    "posicao = [np.array([3,4]), np.array([20,21]), np.array([2,34])]\n",
    "posicao = np.array(posicao)\n",
    "posicao = posicao[posicao[:,0] < 10]\n",
    "posicao = posicao[posicao[:,1] <10]\n",
    "posicao"
   ]
  },
  {
   "cell_type": "code",
   "execution_count": null,
   "metadata": {},
   "outputs": [],
   "source": [
    "## 15:07 esse código manteve o gameboard estático só para ver onde estava cada coisa\n",
    "\n",
    "class GameBoard(tk.Tk):\n",
    "    def __init__(self, champ, cell_size=10):\n",
    "        super().__init__()\n",
    "        self.title(\"Prédateur-Proie Simulation\")\n",
    "\n",
    "        self.champ = champ\n",
    "        self.rows = champ.height\n",
    "        self.cols = champ.width\n",
    "        self.cell_size = cell_size\n",
    "\n",
    "        self.canvas = tk.Canvas(\n",
    "            self, height=self.rows * cell_size, width=self.cols * cell_size)\n",
    "        self.canvas.pack()\n",
    "\n",
    "        self.draw_grid()\n",
    "        self.place_objects()\n",
    "\n",
    "    def draw_grid(self):\n",
    "        for i in range(self.rows):\n",
    "            self.canvas.create_line(\n",
    "                0, i * self.cell_size, self.cols * self.cell_size, i * self.cell_size)\n",
    "        for i in range(self.cols):\n",
    "            self.canvas.create_line(\n",
    "                i * self.cell_size, 0, i * self.cell_size, self.rows * self.cell_size)\n",
    "\n",
    "    def place_objects(self):\n",
    "        for predator in self.champ.predateurs:\n",
    "            self.draw_object(predator.position, 'red')\n",
    "\n",
    "        for prey in self.champ.proies:\n",
    "            self.draw_object(prey.position, 'blue')\n",
    "\n",
    "        for haie in self.champ.obstacles:\n",
    "            self.draw_object(haie.position, 'green')\n",
    "\n",
    "    def draw_object(self, position, color):\n",
    "        x, y = position\n",
    "        self.canvas.create_rectangle(x * self.cell_size, y * self.cell_size,\n",
    "                                     (x + 1) * self.cell_size, (y + 1) * self.cell_size, fill=color)"
   ]
  }
 ],
 "metadata": {
  "kernelspec": {
   "display_name": "Python 3",
   "language": "python",
   "name": "python3"
  },
  "language_info": {
   "codemirror_mode": {
    "name": "ipython",
    "version": 3
   },
   "file_extension": ".py",
   "mimetype": "text/x-python",
   "name": "python",
   "nbconvert_exporter": "python",
   "pygments_lexer": "ipython3",
   "version": "3.9.13"
  }
 },
 "nbformat": 4,
 "nbformat_minor": 2
}
