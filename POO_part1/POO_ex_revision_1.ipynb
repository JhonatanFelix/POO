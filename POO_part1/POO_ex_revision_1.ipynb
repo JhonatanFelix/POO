{
 "cells": [
  {
   "cell_type": "markdown",
   "metadata": {},
   "source": [
    "<center>\n",
    "<h1 id=\"up\">2A UC5 - 06 - Programmation Orientée Objet pour la modélisation du Vivant</h1>\n",
    "<h2>Python - Révisions - Exercices</h2>\n",
    "<h3>Année 2023 - 2024</h3>\n",
    "<br><br>\n",
    "<img src=\"http://irioso.free.fr/img/APT_Logo.png\" width=\"200px\">\n",
    "<br><br>\n",
    "<b>Christine MARTIN</b><br>\n",
    "UFR d'Informatique<br>\n",
    "Département MMIP<br>\n",
    "<i>christine.martin@agroparistech.fr</i>\n",
    "</center>\n"
   ]
  },
  {
   "cell_type": "markdown",
   "metadata": {},
   "source": [
    " \n",
    "Pour chaque fonction, vous veillerez à la documenter soigneusement et notamment à bien préciser ses entrées et ses sorties comme suit :  \n",
    "> ```python\n",
    "> def ma_fonction (param1, param2, ...) :\n",
    ">     \"\"\"\n",
    ">     Rôle de la fonction ma_fonction\n",
    ">     param1 : rôle et type\n",
    ">     param2 : rôle et type\n",
    ">     ...\n",
    ">     --> : type de la valeur de retour de la fonction s'il y a lieu\n",
    ">     \"\"\"\n",
    ">     # instructions\n",
    "> ```\n",
    "\n",
    "Vous veuillerez également à l'organisation de vos scripts."
   ]
  },
  {
   "cell_type": "markdown",
   "metadata": {},
   "source": [
    "> #### Exercice 1 :\n",
    "> Écrivez une fonction que vous nommerez __dialogue__ et qui demande successivement à l'utilisateur son nom et son âge et qui affiche un récapitulatif des informations fournies ainsi que l'année de ses 20 ans.\n",
    ">\n",
    ">Complétez votre script pour tester votre fonction dans des situations qui vous semblent pertinentes.\n",
    "> \n",
    "> __Exemple :__  \n",
    "> Pour les informations __Alexis Dupond__ et __16__ votre programme affichera : \n",
    "> \"Alexis Dupond vous avez 16 ans et vous en aurez 20 en 2023\" "
   ]
  },
  {
   "cell_type": "code",
   "execution_count": 4,
   "metadata": {},
   "outputs": [
    {
     "name": "stdout",
     "output_type": "stream",
     "text": [
      "Alexis Dupond vous avez 20 ans.\n"
     ]
    }
   ],
   "source": [
    "def dialogue(nom, age):\n",
    "    vingt_ans = 2019+(20-age)\n",
    "    if age < 20:\n",
    "        print(f\"{nom} vous avez {age} ans et vous en aurez 20 ans en {vingt_ans}.\")\n",
    "    elif age == 20:\n",
    "        print(f\"{nom} vous avez {age} ans.\")\n",
    "    else:\n",
    "        print(f\"{nom} vous avez {age} ans et vous en avais 20 ans en {vingt_ans}\")\n",
    "\n",
    "dialogue(\"Alexis Dupond\", 20)\n"
   ]
  },
  {
   "cell_type": "code",
   "execution_count": 8,
   "metadata": {},
   "outputs": [
    {
     "name": "stdout",
     "output_type": "stream",
     "text": [
      "Alexis Dupond, vous avez 20 ans.\n"
     ]
    }
   ],
   "source": [
    "from datetime import datetime\n",
    "\n",
    "def dialogue1(nom, date_naissance):\n",
    "    ajd = datetime.today()\n",
    "    idade = ajd.year - date_naissance.year - ((ajd.month, ajd.day) < (date_naissance.month, date_naissance.day))\n",
    "    vingt_ans = date_naissance.year + 20\n",
    "    \n",
    "    if idade < 20:\n",
    "        print(f\"{nom}, vous avez {idade} ans et vous aurez 20 ans em {vingt_ans}.\")\n",
    "    elif idade == 20:\n",
    "        print(f\"{nom}, vous avez {idade} ans.\")\n",
    "    else:\n",
    "        print(f\"{nom}, vous avez {idade} ans et vous avez eu 20 ans em {vingt_ans}.\")\n",
    "\n",
    "date_naissance = datetime(2003, 5, 15)  \n",
    "dialogue1(\"Alexis Dupond\", date_naissance)\n"
   ]
  },
  {
   "cell_type": "markdown",
   "metadata": {},
   "source": [
    "> #### Exercice 2 :\n",
    "> \n",
    "> Écrivez une fonction que vous nommerez __ligne_croix__ et qui prend en entrée un entier __n__ et retourne une chaîne de caractères composée de __n__ fois le symbole __+__.  \n",
    ">\n",
    "> Par exemple pour __n = 5__, la fonction devra retourner la chaîne : __+++++__\n",
    "> \n",
    "> Complétez votre script pour tester votre fonction dans des situations qui vous semblent pertinentes."
   ]
  },
  {
   "cell_type": "code",
   "execution_count": 9,
   "metadata": {},
   "outputs": [
    {
     "name": "stdout",
     "output_type": "stream",
     "text": [
      "+++++\n"
     ]
    }
   ],
   "source": [
    "def ligne_croix(carac):\n",
    "    print(f\"{'+'*len(carac)}\")\n",
    "\n",
    "ligne_croix(\"cabra\")"
   ]
  },
  {
   "cell_type": "markdown",
   "metadata": {},
   "source": [
    "> #### Exercice 3 :\n",
    "> \n",
    "> Écrivez une fonction que vous nommerez __triangle_croix__ et qui prend en entrée un entier __n__ et retourne lorsque cela est possible une chaîne de caractères semblable à un triangle de croix tel que décrit ci-dessous.  \n",
    ">\n",
    "> Par exemple pour __n = 7__, la fonction devra retourner :  \n",
    ">\n",
    "> ```python\n",
    "> +++++++  \n",
    ">  +++++ \n",
    ">   +++  \n",
    ">    + \n",
    "> ```\n",
    ">\n",
    "> Si le nombre fourni n'est pas correct votre fonction devra retourner une chaîne de caractères vide.\n",
    ">\n",
    "> Complétez votre script pour tester votre fonction dans des situations qui vous semblent pertinentes et rendre les sorties explicites pour l'utilisateur."
   ]
  },
  {
   "cell_type": "code",
   "execution_count": 27,
   "metadata": {},
   "outputs": [
    {
     "name": "stdout",
     "output_type": "stream",
     "text": [
      "++++++++++++++++++++++++++++++++++++++++++++++++++ \n",
      " ++++++++++++++++++++++++++++++++++++++++++++++++ \n",
      "  ++++++++++++++++++++++++++++++++++++++++++++++ \n",
      "   ++++++++++++++++++++++++++++++++++++++++++++ \n",
      "    ++++++++++++++++++++++++++++++++++++++++++ \n",
      "     ++++++++++++++++++++++++++++++++++++++++ \n",
      "      ++++++++++++++++++++++++++++++++++++++ \n",
      "       ++++++++++++++++++++++++++++++++++++ \n",
      "        ++++++++++++++++++++++++++++++++++ \n",
      "         ++++++++++++++++++++++++++++++++ \n",
      "          ++++++++++++++++++++++++++++++ \n",
      "           ++++++++++++++++++++++++++++ \n",
      "            ++++++++++++++++++++++++++ \n",
      "             ++++++++++++++++++++++++ \n",
      "              ++++++++++++++++++++++ \n",
      "               ++++++++++++++++++++ \n",
      "                ++++++++++++++++++ \n",
      "                 ++++++++++++++++ \n",
      "                  ++++++++++++++ \n",
      "                   ++++++++++++ \n",
      "                    ++++++++++ \n",
      "                     ++++++++ \n",
      "                      ++++++ \n",
      "                       ++++ \n",
      "                        ++ \n"
     ]
    }
   ],
   "source": [
    "def triangle_croix(entier):\n",
    "    for i in range(entier):\n",
    "        if i % 2 == 0:\n",
    "            print(f\"{' '*(i//2) + '+'*(entier - i)} \")\n",
    "\n",
    "triangle_croix(50)"
   ]
  },
  {
   "cell_type": "markdown",
   "metadata": {},
   "source": [
    "> #### Exercice 4 :\n",
    "> \n",
    "> Écrivez une fonction que vous nommerez __nb_multiples__ qui étant donnés deux nombres représentés respectivement par les paramètres __valeur_max__ et __nombre_interet__ affiche le nombre de nombres multiples de __nombre_interet__ et inférieurs à __valeur_max__.\n",
    ">\n",
    "> Complétez votre script pour tester votre fonction dans des situations qui vous semblent pertinentes.\n"
   ]
  },
  {
   "cell_type": "markdown",
   "metadata": {},
   "source": [
    "> #### Exercice 5 :\n",
    ">\n",
    "> Écrivez une fonction que vous nommerez __voyelles__ et qui pour une chaîne de caractères donnée retourne le nombre de voyelles qu'elle contient.\n",
    ">\n",
    "> Complétez votre script pour tester votre fonction dans des situations qui vous semblent pertinentes."
   ]
  },
  {
   "cell_type": "markdown",
   "metadata": {},
   "source": [
    "> #### Exercice 6 :\n",
    ">\n",
    "> Écrivez une fonction que vous nommerez __saison__ et qui affiche pour une valeur de jour représentée par le paramètre nommé __jour__ et une valeur de mois représentée par le paramètre nommé __mois__ la saison à laquelle elle se rapporte.\n",
    ">\n",
    "> Réfléchissez à un codage judicieux de ces informations afin d'obtenir un code de fonction le plus simple possible !\n",
    ">\n",
    "> Complétez votre script pour tester votre fonction dans des situations qui vous semblent pertinentes.\n",
    ">\n",
    "> Votre programme principal devra, par ailleurs, permettre de tester cette fonction pour des valeurs fournies par l'utilisateur autant de fois qu'il le souhaite.  \n",
    ">\n",
    "> Une saisie particulière de l'utilisateur devra permettre de passer à la suite.\n"
   ]
  },
  {
   "cell_type": "markdown",
   "metadata": {},
   "source": [
    "> #### Exercice 7 :\n",
    ">\n",
    "> Écrivez une fonction que vous nommerez __premiers__ et qui permet de déterminer et de retourner tous les nombres premiers inférieurs à une valeur donnée.  \n",
    "> \n",
    "> __Rappel :__ un nombre est premier s'il n'est divisible que par 1 et lui-même.  \n",
    ">\n",
    "> Complétez votre script pour tester votre fonction dans des situations qui vous semblent pertinentes"
   ]
  },
  {
   "cell_type": "markdown",
   "metadata": {},
   "source": [
    "> #### Exercice 8 : \n",
    "> Écrivez une fonction que vous nommerez __sousListe__ qui étant données deux listes retourne __True__ si les éléments de la première liste apparaissent dans la deuxième dans le même ordre et __False__ dans le cas contraire.  \n",
    ">\n",
    "> Par exemple, __sousListe([2,4,10], [1,2,4,5,2,6,8,10,4,12])__ renvoie __True__.\n",
    ">\n",
    "> Complétez votre script pour tester votre fonction dans des situations qui vous semblent pertinentes."
   ]
  },
  {
   "cell_type": "markdown",
   "metadata": {},
   "source": [
    "> #### Exercice 9 :\n",
    "> Écrivez une fonction que vous nommerez __alterne_listes__ et qui étant données deux listes de longueur quelconque contruit et retourne la liste contenant en alternance les éléments de la première liste et ceux de la deuxième tant que cela est possible puis complète cette dernière avec les éléments restants s'il y a lieu.\n",
    ">\n",
    "> __Exemple :__   \n",
    "> si __liste_1 = [1,2,3,4,5,6]__ et __liste_2 = [5,6,7,8]__ alors le résultat sera __[1,5,2,6,3,7,4,8,5,6]__\n",
    ">\n",
    "> Complétez votre script pour tester votre fonction dans des situations qui vous semblent pertinentes."
   ]
  },
  {
   "cell_type": "markdown",
   "metadata": {},
   "source": [
    "> #### Exercice 10 : \n",
    "> Écrivez une fonction que vous nommerez __deploie__  et qui étant donnée une liste contenant soit des caractères soit des entiers construit une chaine de caractères comme indiqué dans l'exemple ci-dessous c'est-à-dire que tout caractère suivi d'un nombre sera dupliqué autant de fois qu'indiqué par celui-ci.  \n",
    "> __['A',3,'G','C','T',2,'C',3,'G']__ --> __'AAAGCTTCCCG'__\n",
    ">\n",
    "> Complétez votre script pour tester votre fonction dans des situations qui vous semblent pertinentes."
   ]
  },
  {
   "cell_type": "markdown",
   "metadata": {},
   "source": [
    "> #### Exercice 11 : \n",
    "> Écrivez une fonction que vous nommerez __decoupe__ et qui pour une chaîne de caractères donnée permet de la découper suivant un caractère particulier qui peut être répété et sera supprimé lors de cette opération. Votre fonction retournera la chaîne de caractères correspondante avec les caractères de mise en page opportuns.\n",
    ">\n",
    "> Si le caractère de découpage n'est pas présent votre fonction affichera un message spécifique et retournera la chaîne initale. \n",
    "> \n",
    "> __Exemple :__  \n",
    "> \n",
    "> Considérons la chaîne __ACGGTCACTGAACTGGGA__ et le caractère de découpage __G__ votre fonction devra retourner :  \n",
    "> __AC__  \n",
    "> __TCACT__  \n",
    "> __AACT__  \n",
    "> __A__\n",
    ">\n",
    "> Complétez votre script pour tester votre fonction dans des situations qui vous semblent pertinentes."
   ]
  },
  {
   "cell_type": "markdown",
   "metadata": {},
   "source": [
    "> #### Exercice 12 : Compression de données\n",
    ">Une séquence d'ADN peut être très longue et contenir des répétitions. Le but de cet exercice est d'écrire un programme qui prend un long brin d’ADN et qui renvoie la même information sous une forme condensée.  \n",
    ">\n",
    "> L'idée est de ne pas répéter un nucléotide répété mais de mémoriser dans la liste son nombre d'occurrences.\n",
    "> \n",
    "> On considèrera que le brin d'ADN est passé sous forme d'une chaîne de caractères.  \n",
    "> Ainsi __comprime('AAAGCTTCCCG')__ affichera __['A',3,'G','C','T',2,'C',3,'G']__.\n",
    "> \n",
    "> Écrivez une fonction que vous nommerez __compression__ et qui répond au besoin exprimé ci-dessus.\n",
    ">\n",
    "> Complétez votre script pour tester votre fonction dans des situations qui vous semblent pertinentes."
   ]
  },
  {
   "cell_type": "markdown",
   "metadata": {},
   "source": [
    "> #### Exercice 13 :\n",
    "> Étant donnée une séquence d'ARN représentée par une chaîne de caractères, écrivez une fonction que vous nommerez __decompte_dico__ qui retourne le dictionnaire contenant les couples formés par les bases aminées présentent dans la séquence ('A', 'C', 'U' ou 'G') associées à leur nombre d'occurences dans la séquence.\n",
    "\n",
    "> __Exemple :__\n",
    "\n",
    "> __decompte_dico('AUGGUUCAAA')__ fournira le dictionnaire __{'A':4,'U':3,'C':1,'G':2}__\n",
    ">\n",
    "> Complétez votre script pour tester votre fonction dans des situations qui vous semblent pertinentes."
   ]
  },
  {
   "cell_type": "markdown",
   "metadata": {},
   "source": [
    "> #### Exercice 14 : \"Cache cache\"\n",
    "> \n",
    "> Un groupe de colonie de vacances joue à \"cache cache\" dans les bois ...   \n",
    "> \n",
    "> On représente ici les bois par une grille de __N x N__ cases sur laquelle __N__ arbres sont répartis au hasard dans ses différentes cases.  \n",
    "> Il ne peut y avoir plus d'un arbre par case.   \n",
    "> \n",
    "> __n__ enfants essayent de se cacher de leur moniteur en se plaçant stratégiquement dans les cases restantes.  \n",
    ">\n",
    ">Pour simplifier, le moniteur peut \"voir\" à l'infini sur les directions horizontales et verticales, et seuls les arbres peuvent les cacher.  \n",
    "> \n",
    "> Le problème sera représenté par une liste de listes d'entiers où 0 représente le vide, 1 représente un arbre, 2 un enfant et 3 le moniteur.\n",
    "> \n",
    "> 1.\tÉcrivez une fonction pour initialiser la grille avec une première répartition aléatoire des arbres, des enfants et du moniteur.\n",
    "> 2.\tÉcrivez une fonction permettant de tester pour un enfant donné s'il est visible ou non par le moniteur.\n",
    "> 3.\tÉcrivez une fonction permettant de déterminer combien d'enfants ont perdu.\n",
    "> 4.\tÉcrivez une fonction permettant de placer aléatoirement les enfants (arbres et moniteur étant placés) afin que tous soient vainqueurs. \n",
    ">\n",
    "> Pour chaque fonction demandée, complétez votre script pour la tester dans des situations qui vous semblent pertinentes.\n"
   ]
  }
 ],
 "metadata": {
  "kernelspec": {
   "display_name": "Python 3 (ipykernel)",
   "language": "python",
   "name": "python3"
  },
  "language_info": {
   "codemirror_mode": {
    "name": "ipython",
    "version": 3
   },
   "file_extension": ".py",
   "mimetype": "text/x-python",
   "name": "python",
   "nbconvert_exporter": "python",
   "pygments_lexer": "ipython3",
   "version": "3.9.13"
  }
 },
 "nbformat": 4,
 "nbformat_minor": 2
}
